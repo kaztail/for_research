{
 "cells": [
  {
   "cell_type": "code",
   "execution_count": null,
   "id": "a31016f4",
   "metadata": {},
   "outputs": [],
   "source": [
    "import requests\n",
    "from bs4 import BeautifulSoup\n",
    "from time import sleep"
   ]
  },
  {
   "cell_type": "code",
   "execution_count": null,
   "id": "6e4772e6",
   "metadata": {},
   "outputs": [],
   "source": [
    "class Scr():\n",
    "    def __init__(self, urls):\n",
    "        self.urls=urls\n",
    "\n",
    "    def geturl(self):\n",
    "        all_text=[]\n",
    "        for url in self.urls:\n",
    "            r=requests.get(url)\n",
    "            c=r.content\n",
    "            soup=BeautifulSoup(c,\"lxml\")\n",
    "            article1_content=soup.find_all(\"ul\", class_ = 'toc_list')\n",
    "#             article2_content=article1_content.find_all(\"a\")\n",
    "            temp=[]\n",
    "            for con in article1_content:\n",
    "                out=con.text\n",
    "                temp.append(out)\n",
    "            text=''.join(temp)\n",
    "            all_text.append(text)\n",
    "            sleep(1)\n",
    "        return all_text"
   ]
  },
  {
   "cell_type": "code",
   "execution_count": null,
   "id": "581fb36e",
   "metadata": {},
   "outputs": [],
   "source": [
    "sc=Scr([\"https://toukei-lab.com/conjoint\",\"https://toukei-lab.com/correspondence\"])\n",
    "print(sc.geturl())"
   ]
  },
  {
   "cell_type": "markdown",
   "id": "c836502e",
   "metadata": {},
   "source": [
    "<h1>ここから練習</h1>"
   ]
  },
  {
   "cell_type": "code",
   "execution_count": null,
   "id": "4d2b363e",
   "metadata": {},
   "outputs": [],
   "source": [
    "import requests\n",
    "from bs4 import BeautifulSoup\n",
    "from time import sleep\n",
    "import csv"
   ]
  },
  {
   "cell_type": "code",
   "execution_count": null,
   "id": "88ee26f7",
   "metadata": {},
   "outputs": [],
   "source": [
    "class Gsm():\n",
    "    def __init__(self, urls):\n",
    "        self.urls = urls\n",
    "        \n",
    "    def geturl(self):\n",
    "        all_text = []\n",
    "        for url in self.urls:\n",
    "            r = requests.get(url)\n",
    "            c = r.content\n",
    "            soup = BeautifulSoup(c, 'lxml')\n",
    "            content_name = soup.find_all('a')\n",
    "            for uni in content_name:\n",
    "                con = uni.text\n",
    "                link = uni.get('href')\n",
    "                all_text.append([con,link])\n",
    "            sleep(1)\n",
    "        return all_text"
   ]
  },
  {
   "cell_type": "code",
   "execution_count": null,
   "id": "7d50b8c1",
   "metadata": {},
   "outputs": [],
   "source": [
    "kyoto = 'https://www.gsm.kyoto-u.ac.jp/'\n",
    "search_url = Gsm([kyoto])\n",
    "info = search_url.geturl()\n",
    "print(info)"
   ]
  },
  {
   "cell_type": "code",
   "execution_count": null,
   "id": "fa0edaa6",
   "metadata": {},
   "outputs": [],
   "source": [
    "import pandas as pd\n",
    "kyoto_info = pd.DataFrame(info, columns=['タイトル', 'URL'])\n",
    "kyoto_info.head()"
   ]
  }
 ],
 "metadata": {
  "kernelspec": {
   "display_name": "Python 3 (ipykernel)",
   "language": "python",
   "name": "python3"
  },
  "language_info": {
   "codemirror_mode": {
    "name": "ipython",
    "version": 3
   },
   "file_extension": ".py",
   "mimetype": "text/x-python",
   "name": "python",
   "nbconvert_exporter": "python",
   "pygments_lexer": "ipython3",
   "version": "3.9.2"
  }
 },
 "nbformat": 4,
 "nbformat_minor": 5
}
