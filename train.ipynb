{
 "cells": [
  {
   "cell_type": "code",
   "execution_count": 1,
   "id": "73aef592",
   "metadata": {},
   "outputs": [],
   "source": [
    "import requests\n",
    "from bs4 import BeautifulSoup\n",
    "from time import sleep"
   ]
  },
  {
   "cell_type": "code",
   "execution_count": 2,
   "id": "64650372",
   "metadata": {},
   "outputs": [],
   "source": [
    "class Scr():\n",
    "    def __init__(self, urls):\n",
    "        self.urls=urls\n",
    "\n",
    "    def geturl(self):\n",
    "        all_text=[]\n",
    "        for url in self.urls:\n",
    "            r=requests.get(url)\n",
    "            c=r.content\n",
    "            soup=BeautifulSoup(c,\"lxml\")\n",
    "            article1_content=soup.find_all(\"ul\", class_ = 'toc_list')\n",
    "#             article2_content=article1_content.find_all(\"a\")\n",
    "            temp=[]\n",
    "            for con in article1_content:\n",
    "                out=con.text\n",
    "                temp.append(out)\n",
    "            text=''.join(temp)\n",
    "            all_text.append(text)\n",
    "            sleep(1)\n",
    "        return all_text"
   ]
  },
  {
   "cell_type": "code",
   "execution_count": 3,
   "id": "4e32571b",
   "metadata": {},
   "outputs": [
    {
     "name": "stdout",
     "output_type": "stream",
     "text": [
      "['コンジョイント分析とはコンジョイント分析で気を付けなくてはいけないことコンジョイント分析をRで実装してみるコンジョイント分析\\u3000まとめ', '']\n"
     ]
    }
   ],
   "source": [
    "sc=Scr([\"https://toukei-lab.com/conjoint\",\"https://toukei-lab.com/correspondence\"])\n",
    "print(sc.geturl())"
   ]
  },
  {
   "cell_type": "markdown",
   "id": "13f70868",
   "metadata": {},
   "source": [
    "<h1>京都大学MBA</h1>"
   ]
  },
  {
   "cell_type": "code",
   "execution_count": 4,
   "id": "2fa0732a",
   "metadata": {},
   "outputs": [],
   "source": [
    "import requests\n",
    "from bs4 import BeautifulSoup\n",
    "from time import sleep\n",
    "import csv"
   ]
  },
  {
   "cell_type": "code",
   "execution_count": 5,
   "id": "7a6aa6be",
   "metadata": {},
   "outputs": [],
   "source": [
    "class Gsm():\n",
    "    def __init__(self, urls):\n",
    "        self.urls = urls\n",
    "        \n",
    "    def geturl(self):\n",
    "        all_text = []\n",
    "        for url in self.urls:\n",
    "            r = requests.get(url)\n",
    "            c = r.content\n",
    "            soup = BeautifulSoup(c, 'lxml')\n",
    "            content_name = soup.find_all('a')\n",
    "            for uni in content_name:\n",
    "                con = uni.text\n",
    "                link = uni.get('href')\n",
    "                all_text.append([con,link])\n",
    "            sleep(1)\n",
    "        return all_text"
   ]
  },
  {
   "cell_type": "code",
   "execution_count": 6,
   "id": "292ab8a0",
   "metadata": {},
   "outputs": [
    {
     "name": "stdout",
     "output_type": "stream",
     "text": [
      "[['', 'https://www.gsm.kyoto-u.ac.jp/'], ['新入生連絡用ページ', 'https://www.gsm.kyoto-u.ac.jp/front-login/'], ['在校生・教職員用ページ', 'https://www.gsm.kyoto-u.ac.jp/login/'], ['証明書発行', 'https://www.gsm.kyoto-u.ac.jp/certification/'], ['寄附・基金について', 'https://www.gsm.kyoto-u.ac.jp/donation-fund/'], ['JA', 'https://www.gsm.kyoto-u.ac.jp/'], ['EN', 'https://www.gsm.kyoto-u.ac.jp/en/'], ['在校生・教職員用ページ', 'https://www.gsm.kyoto-u.ac.jp/login/'], ['大学院案内', None], ['\\n\\n大学院案内\\n大学院案内トップ\\n\\n', 'https://www.gsm.kyoto-u.ac.jp/about/'], ['大学院概要', 'https://www.gsm.kyoto-u.ac.jp/about/outline/'], ['理念・基本方針', 'https://www.gsm.kyoto-u.ac.jp/about/outline/philosophy/'], ['ポリシー', 'https://www.gsm.kyoto-u.ac.jp/about/outline/policy/'], ['沿革', 'https://www.gsm.kyoto-u.ac.jp/about/outline/history/'], ['ご挨拶', 'https://www.gsm.kyoto-u.ac.jp/about/message/'], ['認証評価', 'https://www.gsm.kyoto-u.ac.jp/about/certified-evaluation/'], ['数字で見るGSM', 'https://www.gsm.kyoto-u.ac.jp/about/data/'], ['パンフレット', 'https://www.gsm.kyoto-u.ac.jp/about/pamphlet/'], ['紹介動画', 'https://www.gsm.kyoto-u.ac.jp/about/media/'], ['公募情報', 'https://www.gsm.kyoto-u.ac.jp/about/employment/'], ['教育', None], ['\\n\\n教育\\n教育トップ\\n\\n', 'https://www.gsm.kyoto-u.ac.jp/education/'], ['MBA/専門職学位課程（経営管理専攻）', 'https://www.gsm.kyoto-u.ac.jp/education/mba/'], ['基幹4プログラム群', 'https://www.gsm.kyoto-u.ac.jp/education/mba/programs/'], ['国際プログラム群', 'https://www.gsm.kyoto-u.ac.jp/education/mba/international-mba-programs/'], ['1年半コース', 'https://www.gsm.kyoto-u.ac.jp/education/mba/eighteen-months/'], ['観光経営科学コース', 'https://www.gsm.kyoto-u.ac.jp/education/mba/tourism/'], ['京都大学・コーネル大学国際連携コース', 'https://www.gsm.kyoto-u.ac.jp/education/mba/kc-cdo/'], ['「MBA」カリキュラムの特徴', 'https://www.gsm.kyoto-u.ac.jp/education/mba/curriculum/'], ['Ph.D. / 博士後期課程（経営科学専攻）', 'https://www.gsm.kyoto-u.ac.jp/education/speciality/'], ['博士論文', 'https://www.gsm.kyoto-u.ac.jp/education/speciality/doctoral-dissertation/'], ['「Ph.D.」カリキュラムの特徴', 'https://www.gsm.kyoto-u.ac.jp/education/speciality/curriculum/'], ['研究', 'https://www.gsm.kyoto-u.ac.jp/research/'], ['教員紹介', 'https://www.gsm.kyoto-u.ac.jp/faculty/'], ['入学案内', None], ['\\n\\n入学案内\\n入学案内トップ\\n\\n', 'https://www.gsm.kyoto-u.ac.jp/admissions/'], ['入試情報', 'https://www.gsm.kyoto-u.ac.jp/admissions/information/'], ['入試説明会', 'https://www.gsm.kyoto-u.ac.jp/admissions/information/#a-explanation'], ['合格発表', 'https://www.gsm.kyoto-u.ac.jp/admissions/information/#a-results'], ['入試データ', 'https://www.gsm.kyoto-u.ac.jp/admissions/information/#a-statistics'], ['入試問題', 'https://www.gsm.kyoto-u.ac.jp/admissions/information/#a-exams'], ['入試に関する重要なお知らせ', 'https://www.gsm.kyoto-u.ac.jp/admissions/notification/'], ['募集要項', 'https://www.gsm.kyoto-u.ac.jp/admissions/guidelines/'], ['専門職学位課程（MBA）', 'https://www.gsm.kyoto-u.ac.jp/admissions/guidelines/category/adm_mba/'], ['博士後期課程（Ph.D.）', 'https://www.gsm.kyoto-u.ac.jp/admissions/guidelines/category/adm_phd/'], ['研究生・科目等履修生・+MBA', 'https://www.gsm.kyoto-u.ac.jp/admissions/guidelines/category/adm_research/'], ['教員・先輩の声', 'https://www.gsm.kyoto-u.ac.jp/admissions/interview/'], ['教員の声', 'https://www.gsm.kyoto-u.ac.jp/admissions/interview/'], ['先輩の声', 'https://www.gsm.kyoto-u.ac.jp/interview_students/'], ['学費・奨学金制度', 'https://www.gsm.kyoto-u.ac.jp/admissions/fee-scholarship/'], ['国際交流', 'https://www.gsm.kyoto-u.ac.jp/admissions/international-partners/'], ['海外留学', 'https://www.gsm.kyoto-u.ac.jp/admissions/studying-abroad/'], ['交換留学のプロセス', 'https://www.gsm.kyoto-u.ac.jp/admissions/studying-abroad/process/'], ['キャリアについて', 'https://www.gsm.kyoto-u.ac.jp/admissions/career/'], ['よくあるご質問', 'https://www.gsm.kyoto-u.ac.jp/admissions/faq/'], ['産官学連携', 'https://www.gsm.kyoto-u.ac.jp/collaborative-research/'], ['イベント', 'https://www.gsm.kyoto-u.ac.jp/event/'], ['同窓会', 'https://www.gsm.kyoto-u.ac.jp/alumni/'], ['', 'https://www.gsm.kyoto-u.ac.jp/'], ['大学院案内', None], ['大学院案内トップ', 'https://www.gsm.kyoto-u.ac.jp/about/'], ['大学院概要', None], ['大学院概要トップ', 'https://www.gsm.kyoto-u.ac.jp/about/outline/'], ['理念・基本方針', 'https://www.gsm.kyoto-u.ac.jp/about/outline/philosophy/'], ['ポリシー', 'https://www.gsm.kyoto-u.ac.jp/about/outline/policy/'], ['沿革', 'https://www.gsm.kyoto-u.ac.jp/about/outline/history/'], ['ご挨拶', 'https://www.gsm.kyoto-u.ac.jp/about/message/'], ['認証評価', 'https://www.gsm.kyoto-u.ac.jp/about/certified-evaluation/'], ['数字でみるGSM', 'https://www.gsm.kyoto-u.ac.jp/about/data/'], ['パンフレット', 'https://www.gsm.kyoto-u.ac.jp/about/pamphlet/'], ['紹介動画', 'https://www.gsm.kyoto-u.ac.jp/about/media/'], ['公募情報', 'https://www.gsm.kyoto-u.ac.jp/about/employment/'], ['教育', None], ['教育トップ', 'https://www.gsm.kyoto-u.ac.jp/education/'], ['MBA/専門職学位課程（経営管理専攻）', None], ['基幹4プログラム群', 'https://www.gsm.kyoto-u.ac.jp/education/mba/programs/'], ['国際プログラム群', 'https://www.gsm.kyoto-u.ac.jp/education/mba/international-mba-programs/'], ['1年半コース', 'https://www.gsm.kyoto-u.ac.jp/education/mba/eighteen-months/'], ['観光経営科学コース', 'https://www.gsm.kyoto-u.ac.jp/education/mba/tourism/'], ['京都大学・コーネル大学国際連携コース', 'https://www.gsm.kyoto-u.ac.jp/education/mba/kc-cdo/'], ['「MBA」カリキュラムの特徴', 'https://www.gsm.kyoto-u.ac.jp/education/mba/curriculum/'], ['Ph.D. / 博士後期課程（経営科学専攻）', None], ['経営科学専攻（博士後期課程）', 'https://www.gsm.kyoto-u.ac.jp/education/speciality/'], ['博士論文', 'https://www.gsm.kyoto-u.ac.jp/education/speciality/doctoral-dissertation/'], ['「Ph.D.」カリキュラムの特徴', 'https://www.gsm.kyoto-u.ac.jp/education/speciality/curriculum/'], ['研究', 'https://www.gsm.kyoto-u.ac.jp/research/'], ['教員紹介', 'https://www.gsm.kyoto-u.ac.jp/faculty/'], ['入学案内', None], ['入学案内トップ', 'https://www.gsm.kyoto-u.ac.jp/admissions/'], ['入試情報', None], ['入試説明会', 'https://www.gsm.kyoto-u.ac.jp/admissions/information/#a-explanation'], ['合格発表', 'https://www.gsm.kyoto-u.ac.jp/admissions/information/#a-results'], ['入試データ', 'https://www.gsm.kyoto-u.ac.jp/admissions/information/#a-statistics'], ['入試問題', 'https://www.gsm.kyoto-u.ac.jp/admissions/information/#a-exams'], ['入試に関する重要なお知らせ', 'https://www.gsm.kyoto-u.ac.jp/admissions/notification/'], ['募集要項', None], ['募集要項トップ', 'https://www.gsm.kyoto-u.ac.jp/admissions/guidelines/'], ['専門職学位課程（MBA）', 'https://www.gsm.kyoto-u.ac.jp/admissions/guidelines/category/adm_mba/'], ['博士後期課程（Ph.D.）', 'https://www.gsm.kyoto-u.ac.jp/admissions/guidelines/category/adm_phd/'], ['研究生・科目等履修生・+MBA', 'https://www.gsm.kyoto-u.ac.jp/admissions/guidelines/category/adm_research/'], ['教員・先輩の声', None], ['教員の声', 'https://www.gsm.kyoto-u.ac.jp/admissions/interview/'], ['先輩の声', 'https://www.gsm.kyoto-u.ac.jp/interview_students/'], ['学費・奨学金制度', 'https://www.gsm.kyoto-u.ac.jp/admissions/fee-scholarship/'], ['国際交流', 'https://www.gsm.kyoto-u.ac.jp/admissions/international-partners/'], ['海外留学', None], ['海外留学トップ', 'https://www.gsm.kyoto-u.ac.jp/admissions/studying-abroad/'], ['交換留学のプロセス', 'https://www.gsm.kyoto-u.ac.jp/admissions/studying-abroad/process/'], ['キャリアについて', 'https://www.gsm.kyoto-u.ac.jp/admissions/career/'], ['よくあるご質問', 'https://www.gsm.kyoto-u.ac.jp/admissions/faq/'], ['産官学連携', 'https://www.gsm.kyoto-u.ac.jp/collaborative-research/'], ['イベント', 'https://www.gsm.kyoto-u.ac.jp/event/'], ['同窓会', 'https://www.gsm.kyoto-u.ac.jp/alumni/'], ['新入生連絡用ページ', 'https://www.gsm.kyoto-u.ac.jp/front-login/'], ['JA', ''], ['EN', 'https://www.gsm.kyoto-u.ac.jp/en/'], ['在校生・教職員用ページ', 'https://www.gsm.kyoto-u.ac.jp/login/'], ['証明書発行', 'https://www.gsm.kyoto-u.ac.jp/certification/'], ['寄附・基金について', 'https://www.gsm.kyoto-u.ac.jp/donation-fund/'], ['大学院案内', 'https://www.gsm.kyoto-u.ac.jp/about/'], ['教育', 'https://www.gsm.kyoto-u.ac.jp/education/'], ['研究', 'https://www.gsm.kyoto-u.ac.jp/research/'], ['教員紹介', 'https://www.gsm.kyoto-u.ac.jp/faculty/'], ['入学案内', 'https://www.gsm.kyoto-u.ac.jp/admissions/'], ['産官学連携', 'https://www.gsm.kyoto-u.ac.jp/collaborative-research/'], ['イベント', 'https://www.gsm.kyoto-u.ac.jp/event/'], ['同窓会', 'https://www.gsm.kyoto-u.ac.jp/alumni/'], ['MBA/専門職学位課程を見る', 'https://www.gsm.kyoto-u.ac.jp/education/mba/'], ['Ph.D. / 博士後期課程を見る', 'https://www.gsm.kyoto-u.ac.jp/education/speciality/'], ['\\nSCROLL\\n\\n', '#a-topics'], ['\\n\\n2021.09.14\\n\\n2021.9.11 グローバル社会起業寄附講座オンラインセミナー②を開催しました\\n', 'https://www.gsm.kyoto-u.ac.jp/event_report/46716/'], ['\\n\\n2021.09.13\\n\\n2021.9.21 ティール組織続編「パーパス経営ブームの流れの中で大切にしておきたい観点」〜100年続くベンチャーが生まれ育つ都研究会〜\\n', 'https://www.gsm.kyoto-u.ac.jp/event/46713/'], ['\\n\\n2021.09.10\\n\\n2021.10.11 第2回 情報学ビジネス実践講座 特別講義「顔認証で実現する安全安心な社会」－NECの東京オリンピック・パラリンピックの事例とともに－\\n', 'https://www.gsm.kyoto-u.ac.jp/event/46701/'], ['\\n\\n2021.09.08\\n\\n【オンライン開催】2021年度後期「外資系投資銀行ビジネス-理論と実務-」スタートアップセミナー～説明できる？？ESG/SDGs（素朴な疑問から最先端トピックまで）～\\n', 'https://www.gsm.kyoto-u.ac.jp/event/46684/'], ['\\n\\n2021.09.02\\n\\n2021.9.17 エリアマネジメントシンポジウム2021『グリーン×コミュニティ×クリエイティビティ～これからのエリアマネジメントの可能性を探る～』\\n', 'https://www.gsm.kyoto-u.ac.jp/event/46638/'], ['\\n\\n2021.09.02\\nメディア掲載 \\n2021.9.2 キャシー松井特命教授のインタビュー記事が日本経済新聞に掲載されました\\n', 'https://www.gsm.kyoto-u.ac.jp/news/46632/'], ['\\n\\n2021.09.01\\n\\n2021.9.28「スタートアップの都・京都」プロジェクト スタートアップ企業×大学生\\n', 'https://www.gsm.kyoto-u.ac.jp/event/46602/'], ['\\n\\n2021.09.01\\n\\n2021.9.30 京都大学特別セミナー「成長機会としてのカーボンニュートラルとデジタル化」\\n', 'https://www.gsm.kyoto-u.ac.jp/event/46594/'], ['\\n\\n2021.08.31\\n\\n2021.9.27 ポストコロナ時代のキャリアを考える～あなたの知らないエネルギーの世界～\\n', 'https://www.gsm.kyoto-u.ac.jp/event/46592/'], ['\\n\\n2021.08.30\\n\\n2021.9.15 Management Seminar\\n', 'https://www.gsm.kyoto-u.ac.jp/event/46595/'], ['\\n\\n2021.08.26\\n募集要項 \\n2021.9.1～10.31 企業金融研究奨励賞（みずほ証券寄附講座） 未刊行論文・研究計画 募集のご案内\\n', 'https://www.gsm.kyoto-u.ac.jp/news/46532/'], ['\\n\\n2021.08.23\\nメディア掲載 \\n2021.8.17 若林直樹教授が日本経済新聞「経済教室」に「顧客志向企業文化は企業を救う」を寄稿しました\\n', 'https://www.gsm.kyoto-u.ac.jp/news/46524/'], ['\\n\\n2021.08.23\\n受賞 \\n高井計吾教務補佐員が日本ベンチャー学会の2020年第15回清成忠男賞（論文部門）を受賞しました\\n', 'https://www.gsm.kyoto-u.ac.jp/news/46525/'], ['\\n\\n2021.08.05\\n一般情報 \\n女性研究者の活動を紹介する「女性研究者の声」ページが新設されました\\n', 'https://www.gsm.kyoto-u.ac.jp/news/46449/'], ['\\n\\n2021.07.19\\n\\n2021.9.21 2021年度「国際港湾経営研修」１Dayオープン研修\\n', 'https://www.gsm.kyoto-u.ac.jp/event/46263/'], ['\\n\\n2021.05.31\\n入試情報 \\n【2022年 KC-CDO入試】京都大学・コーネル大学国際連携コース専用の入試説明動画をHPにて公開します\\n', 'https://www.gsm.kyoto-u.ac.jp/news/45813/'], ['\\n入試情報\\n2021.06.21\\n2022年度経営管理教育部（日本語プログラム）募集要項を公開しました\\n', 'https://www.gsm.kyoto-u.ac.jp/news/46194/'], ['\\n入試情報\\n2021.05.31\\n【2022年 KC-CDO入試】京都大学・コーネル大学国際連携コース専用の入試説明動画をHPにて公開します\\n', 'https://www.gsm.kyoto-u.ac.jp/news/45813/'], ['\\n入試情報\\n2021.05.17\\n2022年度経営管理教育部 （国際プログラム/i-BA & i-PM）募集要項を公開しました\\n', 'https://www.gsm.kyoto-u.ac.jp/news/45738/'], ['\\n入試情報\\n2021.04.28\\n2022年度 京都大学-コーネル大学国際連携コース 募集要項を公開しました\\n', 'https://www.gsm.kyoto-u.ac.jp/news/45639/'], ['News一覧', 'https://www.gsm.kyoto-u.ac.jp/news/'], ['\\nメディア掲載 2021.09.02\\n2021.9.2 キャシー松井特命教授のインタビュー記事が日本経済新聞に掲載されました\\n', 'https://www.gsm.kyoto-u.ac.jp/news/46632/'], ['\\n募集要項 2021.08.26\\n2021.9.1～10.31 企業金融研究奨励賞（みずほ証券寄附講座） 未刊行論文・研究計画 募集のご案内\\n', 'https://www.gsm.kyoto-u.ac.jp/news/46532/'], ['\\nメディア掲載 2021.08.23\\n2021.8.17 若林直樹教授が日本経済新聞「経済教室」に「顧客志向企業文化は企業を救う」を寄稿しました\\n', 'https://www.gsm.kyoto-u.ac.jp/news/46524/'], ['\\n受賞 2021.08.23\\n高井計吾教務補佐員が日本ベンチャー学会の2020年第15回清成忠男賞（論文部門）を受賞しました\\n', 'https://www.gsm.kyoto-u.ac.jp/news/46525/'], ['\\n一般情報 2021.08.06\\n関口倫紀教授がAssociation of Japanese Business Studies (AJBS) 会長に就任しました\\n', 'https://www.gsm.kyoto-u.ac.jp/news/46474/'], ['News一覧', 'https://www.gsm.kyoto-u.ac.jp/news/'], ['\\n\\n09/15\\nWed\\n\\n\\n2021.9.15 Management Seminar\\n\\n日時\\n09/15 水曜日 15:00 - 16:30\\n\\n\\n場所\\nオンライン開催（Zoom）\\n\\n\\n\\n2021.08.30\\nイベント告知\\n\\n', 'https://www.gsm.kyoto-u.ac.jp/event/46595/'], ['\\n\\n09/17\\nFri\\n\\n\\n2021.9.17 エリアマネジメントシンポジウム2021『グリーン×コミュニティ×クリエイティビティ～これからのエリアマネジメントの可能性を探る～』\\n\\n日時\\n09/17 金曜日 14:30 - 18:00\\n\\n\\n場所\\nオンライン（Zoomウェビナー）\\n\\n\\n\\n2021.09.02\\nイベント告知\\n\\n', 'https://www.gsm.kyoto-u.ac.jp/event/46638/'], ['\\n\\n09/21\\nTue\\n\\n\\n2021.9.21 2021年度「国際港湾経営研修」１Dayオープン研修\\n\\n日時\\n09/21 火曜日 10:30 - 18:15\\n\\n\\n場所\\nオンライン開催\\n\\n\\n\\n2021.07.19\\nイベント告知\\n\\n', 'https://www.gsm.kyoto-u.ac.jp/event/46263/'], ['\\n\\n09/21\\nTue\\n\\n\\n2021.9.21 ティール組織続編「パーパス経営ブームの流れの中で大切にしておきたい観点」〜100年続くベンチャーが生まれ育つ都研究会〜\\n\\n日時\\n09/21 火曜日 18:30 - 20:30\\n\\n\\n場所\\nオンライン（ YouTube ）\\n\\n\\n\\n2021.09.13\\nイベント告知\\n\\n', 'https://www.gsm.kyoto-u.ac.jp/event/46713/'], ['イベント告知・報告', 'https://www.gsm.kyoto-u.ac.jp/event/'], ['イベント一覧', 'https://www.gsm.kyoto-u.ac.jp/event-calender/'], ['数字で見る京都大学経営管理大学院', 'https://www.gsm.kyoto-u.ac.jp/about/data/'], ['GSM-KU 経営研究センター', 'https://www.gsm.kyoto-u.ac.jp/collaborative-research/crba/'], ['企業金融と資本市場 (みずほ証券) 寄附講座', 'https://www.gsm.kyoto-u.ac.jp/collaborative-research/mizuho/'], ['官民協働まちづくり実践寄附講座', 'https://www.gsm.kyoto-u.ac.jp/collaborative-research/city-management/'], ['港湾物流高度化寄附講座', 'https://www.gsm.kyoto-u.ac.jp/collaborative-research/harbor/'], ['道路アセットマネジメント政策講座', 'https://www.gsm.kyoto-u.ac.jp/collaborative-research/asset/'], ['管理会計（経営会計専門家協会）寄附講座', 'https://www.gsm.kyoto-u.ac.jp/collaborative-research/jma/'], ['京都ものづくりバレー構想の研究と推進（JOHNAN）講座', 'https://www.gsm.kyoto-u.ac.jp/collaborative-research/jhonan/'], ['グローバル社会起業寄附講座', 'https://www.gsm.kyoto-u.ac.jp/collaborative-research/gse/'], ['シスメックス寄附講座', 'https://www.gsm.kyoto-u.ac.jp/collaborative-research/sysmex/'], ['国際メガ・インフラマネジメント政策（八千代エンジニヤリング）講座', 'https://www.gsm.kyoto-u.ac.jp/collaborative-research/yachiyo-engineering/'], ['インテグレイティド・ホスピタリティ（グリーンハウス）寄附講座', 'https://www.gsm.kyoto-u.ac.jp/collaborative-research/ih/'], ['プルータス・コンサルティング寄附講座', 'https://www.gsm.kyoto-u.ac.jp/collaborative-research/plutus/'], ['プライベート・エクイティ (ポラリス・キャピタル・グループ) 寄附講座', 'https://www.gsm.kyoto-u.ac.jp/collaborative-research/polaris/'], ['アート・コミュニケーションデザインと組織経営寄附講座', 'https://www.gsm.kyoto-u.ac.jp/collaborative-research/art-communication-design-and-organizational-management/'], ['パブリック・リレーションズ寄附講義', 'https://www.gsm.kyoto-u.ac.jp/collaborative-research/jpri/'], ['アビームコンサルティング寄附講義', 'https://www.gsm.kyoto-u.ac.jp/collaborative-research/abeam/'], ['ソシエテ・ジェネラル証券寄附講義', 'https://www.gsm.kyoto-u.ac.jp/collaborative-research/societegenerale/'], ['ユニゾン・キャピタル／Intellectual Innovations 寄附講義', 'https://www.gsm.kyoto-u.ac.jp/collaborative-research/unison-capital-intellectual-innovations/'], ['アジアビジネス・リーダー人材育成産学共同講座', 'https://www.gsm.kyoto-u.ac.jp/collaborative-research/abl/'], ['上級経営会計専門家プログラム', 'https://www.gsm.kyoto-u.ac.jp/collaborative-research/exective-mba/'], ['情報学ビジネス実践講座', 'https://www.gsm.kyoto-u.ac.jp/collaborative-research/info-b/'], ['京都大学サービスMBA入門プログラム', 'https://www.gsm.kyoto-u.ac.jp/collaborative-research/service-mba-introductory-program/'], ['都市・地域マネジメント客員講座', 'https://www.gsm.kyoto-u.ac.jp/collaborative-research/toshi/'], ['プロジェクトファイナンス客員講座', 'https://www.gsm.kyoto-u.ac.jp/collaborative-research/puro/'], ['国土マネジメント客員講座', 'https://www.gsm.kyoto-u.ac.jp/collaborative-research/kokudo/'], ['証券投資研究教育産学共同講座', 'https://www.gsm.kyoto-u.ac.jp/collaborative-research/toushi/'], ['プライベートバンカー資格', 'https://www.gsm.kyoto-u.ac.jp/collaborative-research/pb/'], ['先輩の声', 'https://www.gsm.kyoto-u.ac.jp/interview_students/'], ['\\n\\n日本政府観光局(JNTO)にて、訪日インバウンドの現場を国内、海外で14年経験し、2018年に独立起業。これまでの訪日誘客に関する経験を学術的に整理すると共に、自社の企業価値最大化のため、経営学を体系的に学びたいと考えたためである。観光に特化したMBAは日本国内に少なく、「観光」を学ぶには京都という歴史、人気とも随一の環境に身を置けるのは他では得られない経験である。\\n', 'https://www.gsm.kyoto-u.ac.jp/interview_students/2388/'], ['\\n\\n私はIT企業でエンジニアしていましたが、将来的に家業を継ぐことが決まり、家業に専念する前に体系的に経営を学びたいと思い、京都大学GSMのサービス＆ホスピタリティプログラムに入学しました。またGSMでは、様々な国地域、バックグラウンドも年齢もばらばらな人達と出会えることもとても魅力的に感じました。\\n', 'https://www.gsm.kyoto-u.ac.jp/interview_students/508/'], ['\\n\\nBefore I came to Japan, I was working as an electronics research, design, and development engineer in Singapore. As I was working on new product development and existing product projects in my previous company, it brought out my interest in becoming a project manager. So, I searched for further study programs that would be helpful for my career path, and I found GSM. The unique thing about GSM is that it offers an MBA program that specializes in international project management. It gave me a chance to upskill myself by combining my previous hard-skills and the industry knowledge with new soft-skills that I learned through management courses. And most of the courses in GSM are taught by people who have professional experience; for example, Mizuho securities affiliated professors, project management professionals from JBIC, and entrepreneurs, and it provides us a great insight into Japanese business as well.\\n', 'https://www.gsm.kyoto-u.ac.jp/interview_students/2384/'], ['\\n\\n私が本大学院の受験を決めたのは31歳の時です。大学時代に起業した会社が軌道に乗り、業界でも実績が認められつつある時期でした。しかし会社が成長するにつれ、経営者として器量の限界を感じ始めてもいました。経営を実務と学問の双方 […]\\n', 'https://www.gsm.kyoto-u.ac.jp/interview_students/583/'], ['先輩の声', 'https://www.gsm.kyoto-u.ac.jp/interview_students/'], ['女性研究者の声', 'https://www.gsm.kyoto-u.ac.jp/women_research/'], ['\\n\\n工学部建築学科を経てゼネコンへ勤務後、海外で仕事をしたい一心から青年海外協力隊へ参加しました。\\n', 'https://www.gsm.kyoto-u.ac.jp/women_research/46441/'], ['\\n\\n私の研究テーマは、経営戦略、コーポレート・ガバナンス、国際経営、経営史、特に先進国と新興国における大企業の発展についてです。\\n', 'https://www.gsm.kyoto-u.ac.jp/women_research/46376/'], ['\\n\\nMy research efforts to date have given me with opportunities to create ideas that explain what we see in the s […]\\n', 'https://www.gsm.kyoto-u.ac.jp/women_research/46564/'], ['\\n\\nI received my Ph.D. from the Graduate School of Economics and Certificate from the Cross-Boundary Innovation P […]\\n', 'https://www.gsm.kyoto-u.ac.jp/women_research/46565/'], ['女性研究者の声', 'https://www.gsm.kyoto-u.ac.jp/women_research/'], ['', 'https://www.gsm.kyoto-u.ac.jp/'], ['075-753-3410', 'tel:0757533410'], ['', 'https://www.facebook.com/gsm.kyoto.u/'], ['証明書発行', 'https://www.gsm.kyoto-u.ac.jp/certification/'], ['寄附・基金について', 'https://www.gsm.kyoto-u.ac.jp/donation-fund/'], ['お問合せ', 'https://www.gsm.kyoto-u.ac.jp/contact/'], ['アクセス', 'https://www.gsm.kyoto-u.ac.jp/access/'], ['プライバシーポリシー', 'https://www.gsm.kyoto-u.ac.jp/privacy-policy/'], ['サイトマップ', 'https://www.gsm.kyoto-u.ac.jp/sitemap/'], ['', 'http://www.kyoto-u.ac.jp/ja/'], ['', 'https://www.econ.kyoto-u.ac.jp/'], ['', 'https://www.t.kyoto-u.ac.jp/ja'], ['', 'https://sha.cornell.edu/']]\n"
     ]
    }
   ],
   "source": [
    "kyoto = 'https://www.gsm.kyoto-u.ac.jp/'\n",
    "search_url = Gsm([kyoto])\n",
    "info = search_url.geturl()\n",
    "print(info)"
   ]
  },
  {
   "cell_type": "code",
   "execution_count": 7,
   "id": "48e73ec5",
   "metadata": {},
   "outputs": [
    {
     "data": {
      "text/html": [
       "<div>\n",
       "<style scoped>\n",
       "    .dataframe tbody tr th:only-of-type {\n",
       "        vertical-align: middle;\n",
       "    }\n",
       "\n",
       "    .dataframe tbody tr th {\n",
       "        vertical-align: top;\n",
       "    }\n",
       "\n",
       "    .dataframe thead th {\n",
       "        text-align: right;\n",
       "    }\n",
       "</style>\n",
       "<table border=\"1\" class=\"dataframe\">\n",
       "  <thead>\n",
       "    <tr style=\"text-align: right;\">\n",
       "      <th></th>\n",
       "      <th>タイトル</th>\n",
       "      <th>URL</th>\n",
       "    </tr>\n",
       "  </thead>\n",
       "  <tbody>\n",
       "    <tr>\n",
       "      <th>0</th>\n",
       "      <td></td>\n",
       "      <td>https://www.gsm.kyoto-u.ac.jp/</td>\n",
       "    </tr>\n",
       "    <tr>\n",
       "      <th>1</th>\n",
       "      <td>新入生連絡用ページ</td>\n",
       "      <td>https://www.gsm.kyoto-u.ac.jp/front-login/</td>\n",
       "    </tr>\n",
       "    <tr>\n",
       "      <th>2</th>\n",
       "      <td>在校生・教職員用ページ</td>\n",
       "      <td>https://www.gsm.kyoto-u.ac.jp/login/</td>\n",
       "    </tr>\n",
       "    <tr>\n",
       "      <th>3</th>\n",
       "      <td>証明書発行</td>\n",
       "      <td>https://www.gsm.kyoto-u.ac.jp/certification/</td>\n",
       "    </tr>\n",
       "    <tr>\n",
       "      <th>4</th>\n",
       "      <td>寄附・基金について</td>\n",
       "      <td>https://www.gsm.kyoto-u.ac.jp/donation-fund/</td>\n",
       "    </tr>\n",
       "  </tbody>\n",
       "</table>\n",
       "</div>"
      ],
      "text/plain": [
       "          タイトル                                           URL\n",
       "0                             https://www.gsm.kyoto-u.ac.jp/\n",
       "1    新入生連絡用ページ    https://www.gsm.kyoto-u.ac.jp/front-login/\n",
       "2  在校生・教職員用ページ          https://www.gsm.kyoto-u.ac.jp/login/\n",
       "3        証明書発行  https://www.gsm.kyoto-u.ac.jp/certification/\n",
       "4    寄附・基金について  https://www.gsm.kyoto-u.ac.jp/donation-fund/"
      ]
     },
     "execution_count": 7,
     "metadata": {},
     "output_type": "execute_result"
    }
   ],
   "source": [
    "import pandas as pd\n",
    "kyoto_info = pd.DataFrame(info, columns=['タイトル', 'URL'])\n",
    "kyoto_info.head()"
   ]
  }
 ],
 "metadata": {
  "kernelspec": {
   "display_name": "Python 3 (ipykernel)",
   "language": "python",
   "name": "python3"
  },
  "language_info": {
   "codemirror_mode": {
    "name": "ipython",
    "version": 3
   },
   "file_extension": ".py",
   "mimetype": "text/x-python",
   "name": "python",
   "nbconvert_exporter": "python",
   "pygments_lexer": "ipython3",
   "version": "3.9.2"
  }
 },
 "nbformat": 4,
 "nbformat_minor": 5
}
